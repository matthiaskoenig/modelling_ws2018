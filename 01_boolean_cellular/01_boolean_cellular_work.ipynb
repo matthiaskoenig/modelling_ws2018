{
 "cells": [
  {
   "cell_type": "markdown",
   "metadata": {},
   "source": [
    "# Boolean Networks & Cellular Automaton"
   ]
  },
  {
   "cell_type": "markdown",
   "metadata": {},
   "source": [
    "## Short introduction to python\n",
    "The tutorial will be based on `python`. A basic understanding of programming and the python language will be sufficient to follow the examples. \n",
    "\n",
    "Many good basic python tutorials and introductions exist, for instance see\n",
    "\n",
    "- https://www.learnpython.org/ -  interactive python tutorial\n",
    "- https://docs.python.org/3/tutorial/index.html - official tutorial, more in depth\n",
    "\n",
    "For installation instructions see for instance https://wiki.python.org/moin/BeginnersGuide/Download\n",
    "\n",
    "This tutorial and all information related to it is available online at\n",
    "https://github.com/matthiaskoenig/modelling_ws2018\n",
    "\n",
    "To follow the tutorial a basic `python3` installation with the packages listed in `requirements.txt` is needed.\n",
    "```\n",
    "numpy\n",
    "pandas\n",
    "matplotlib\n",
    "```\n",
    "\n",
    "If you have any questions or need help please contact konigmatt@googlemail.com"
   ]
  },
  {
   "cell_type": "markdown",
   "metadata": {},
   "source": [
    "## Boolean Networks\n",
    "\n",
    "- A boolean network consists of nodes (which have a boolean state) and connections between the states (inputs for nodes).\n",
    "- The boolean states can be either 0 or 1.\n",
    "- Every node (state) in the boolean network has a rule which specifies the output of the node (state) for all possible combinations of inputs. \n",
    "- Based on the given rule for a node the node state is updated.\n",
    "- Simulations start from an initial state of the network. This is the state of all nodes at the begin of the simulation.\n",
    "\n",
    "General Properties of Boolean Networks:\n",
    "\n",
    "- Fixed topology (doesn’t change with time)\n",
    "- Dynamic (states evolve over time, updates happen at discrete time steps)\n",
    "- Synchronous (update of all states occurs at the same time)\n",
    "- Node States: Deterministic (based on rules), discrete (binary)\n",
    "- Gate Function: Boolean (rules which calculate the update for the state, return discrete new state)\n",
    "- Flow: Information"
   ]
  },
  {
   "cell_type": "markdown",
   "metadata": {},
   "source": [
    "For one dimensional input of a given node in a boolean network the possible unary boolean operators are\n",
    "\n",
    "- IDENTITY (`[0]->[0], [1]->[1]`) \n",
    "- INVERSE (`[0]->[1], [1]->[0]`)\n",
    "- ZERO (`[0]->[0], [1]->[0]`)\n",
    "- ONE (`[0]->[1], [1]->[1]`)\n",
    "\n",
    "For two dimensional inputs possible logical operations (rules) are for instance\n",
    "\n",
    "- AND (`[1,1]->[1], [1,0]->[0], [0,1]->[1], [0,0]->[0]`) \n",
    "- OR\n",
    "- XOR\n",
    "- NOR\n",
    "- ...\n",
    "\n",
    "An overview over the truth tables (boolean rules) for unary and binary operations can be found here https://en.wikipedia.org/wiki/Truth_table"
   ]
  },
  {
   "cell_type": "markdown",
   "metadata": {},
   "source": [
    "### Task 1\n",
    "Within this task we will simulate a boolean network by applying the rules repeatedly starting from an intial state, thereby updating the state vector `[X1, X2]`.\n",
    "\n",
    "\n",
    "<img src=\"Example1.png\" width=\"200\"/>\n",
    "\n",
    "* Write a computer program which simulates the simple boolean networks consisting of the two nodes `X1` and `X2` with the initial state `[X1, X2](0) = [0, 1]`. The boolean rules for updating `X1` based on the input from `X2`, and for updating X2 based on the input of `X1` are the unary `INVERSE` rule. Simulate the model for 20 steps. What is the final state of the boolean network?\n",
    "* What are the possible trajectories of the boolean network, i.e. which sequence of states are possible? (hint: simulate the network for all possible initial states)"
   ]
  },
  {
   "cell_type": "markdown",
   "metadata": {},
   "source": [
    "**Simple solution**\n",
    "- translate problem into code (just follow the problem description)\n",
    "- use what you know about the problem domain\n",
    "- boolean states, discrete time evolution, synchronous updates"
   ]
  },
  {
   "cell_type": "code",
   "execution_count": 4,
   "metadata": {},
   "outputs": [
    {
     "name": "stdout",
     "output_type": "stream",
     "text": [
      "[[False, True],\n",
      " [False, True],\n",
      " [False, True],\n",
      " [False, True],\n",
      " [False, True],\n",
      " [False, True],\n",
      " [False, True],\n",
      " [False, True],\n",
      " [False, True],\n",
      " [False, True],\n",
      " [False, True],\n",
      " [False, True],\n",
      " [False, True],\n",
      " [False, True],\n",
      " [False, True],\n",
      " [False, True],\n",
      " [False, True],\n",
      " [False, True],\n",
      " [False, True],\n",
      " [False, True],\n",
      " [False, True]]\n"
     ]
    }
   ],
   "source": [
    "from pprint import pprint\n",
    "N = 20  # number of steps\n",
    "states = [[False, True]]  # initial state\n",
    "for k in range(N):\n",
    "    # get state of last step\n",
    "    x = states[k]\n",
    "    \n",
    "    # update state by applying rules\n",
    "    x_new = [not x[1], not x[0]]\n",
    "    \n",
    "    # store new state\n",
    "    states.append(x_new)\n",
    "    \n",
    "pprint(states)"
   ]
  },
  {
   "cell_type": "markdown",
   "metadata": {},
   "source": [
    "**Analyse trajectories**\n",
    "\n",
    "Now analyse all possible states of the network. For this we have to start the network from all possible initial states.\n",
    "* define recurring code as functions\n",
    "* generalize solution so it can be applied to a broader application field"
   ]
  },
  {
   "cell_type": "code",
   "execution_count": 17,
   "metadata": {},
   "outputs": [
    {
     "name": "stdout",
     "output_type": "stream",
     "text": [
      "[[True, True],\n",
      " [False, False],\n",
      " [True, True],\n",
      " [False, False],\n",
      " [True, True],\n",
      " [False, False],\n",
      " [True, True],\n",
      " [False, False],\n",
      " [True, True],\n",
      " [False, False],\n",
      " [True, True]]\n",
      "----------------------------------------\n",
      "[[True, False],\n",
      " [True, False],\n",
      " [True, False],\n",
      " [True, False],\n",
      " [True, False],\n",
      " [True, False],\n",
      " [True, False],\n",
      " [True, False],\n",
      " [True, False],\n",
      " [True, False],\n",
      " [True, False]]\n",
      "----------------------------------------\n",
      "[[False, True],\n",
      " [False, True],\n",
      " [False, True],\n",
      " [False, True],\n",
      " [False, True],\n",
      " [False, True],\n",
      " [False, True],\n",
      " [False, True],\n",
      " [False, True],\n",
      " [False, True],\n",
      " [False, True]]\n",
      "----------------------------------------\n",
      "[[False, False],\n",
      " [True, True],\n",
      " [False, False],\n",
      " [True, True],\n",
      " [False, False],\n",
      " [True, True],\n",
      " [False, False],\n",
      " [True, True],\n",
      " [False, False],\n",
      " [True, True],\n",
      " [False, False]]\n",
      "----------------------------------------\n"
     ]
    }
   ],
   "source": [
    "state_init = [\n",
    "    [True, True],\n",
    "    [True, False],\n",
    "    [False, True],\n",
    "    [False, False],\n",
    "]\n",
    "\n",
    "def f_inverse(x):\n",
    "    \"\"\"Inverse of given state.\"\"\"\n",
    "    assert len(x) == 2\n",
    "    return [not x[1], not x[0]]\n",
    "\n",
    "def f_inverse2(x):\n",
    "    return [not x[0], not x[1]]\n",
    "\n",
    "def simulate(x0, f_rules, steps=10):\n",
    "    \"\"\" Simulates the boolean network from initial state by applying given rules.\"\"\"\n",
    "    states = [x0]\n",
    "    for k in range(steps):\n",
    "        x = states[k]\n",
    "        states.append(f_rules(x))\n",
    "    return states\n",
    "\n",
    "for x0 in state_init:\n",
    "    states = simulate(x0, f_rules=f_inverse)\n",
    "    pprint(states)\n",
    "    print('-' * 40)"
   ]
  },
  {
   "cell_type": "markdown",
   "metadata": {},
   "source": [
    "***Improve solution***\n",
    "- use appropriate data structures (appending to a list is not very efficient; data structure which simplifies analysis)\n",
    "- plot results"
   ]
  },
  {
   "cell_type": "code",
   "execution_count": 16,
   "metadata": {},
   "outputs": [
    {
     "name": "stdout",
     "output_type": "stream",
     "text": [
      "----------------------------------------\n",
      "'x0 = [1 1]'\n",
      "array([[1, 1],\n",
      "       [0, 0],\n",
      "       [1, 1],\n",
      "       [0, 0],\n",
      "       [1, 1],\n",
      "       [0, 0],\n",
      "       [1, 1],\n",
      "       [0, 0],\n",
      "       [1, 1],\n",
      "       [0, 0],\n",
      "       [1, 1]])\n",
      "----------------------------------------\n",
      "'x0 = [1 0]'\n",
      "array([[1, 0],\n",
      "       [1, 0],\n",
      "       [1, 0],\n",
      "       [1, 0],\n",
      "       [1, 0],\n",
      "       [1, 0],\n",
      "       [1, 0],\n",
      "       [1, 0],\n",
      "       [1, 0],\n",
      "       [1, 0],\n",
      "       [1, 0]])\n",
      "----------------------------------------\n",
      "'x0 = [0 1]'\n",
      "array([[0, 1],\n",
      "       [0, 1],\n",
      "       [0, 1],\n",
      "       [0, 1],\n",
      "       [0, 1],\n",
      "       [0, 1],\n",
      "       [0, 1],\n",
      "       [0, 1],\n",
      "       [0, 1],\n",
      "       [0, 1],\n",
      "       [0, 1]])\n",
      "----------------------------------------\n",
      "'x0 = [0 0]'\n",
      "array([[0, 0],\n",
      "       [1, 1],\n",
      "       [0, 0],\n",
      "       [1, 1],\n",
      "       [0, 0],\n",
      "       [1, 1],\n",
      "       [0, 0],\n",
      "       [1, 1],\n",
      "       [0, 0],\n",
      "       [1, 1],\n",
      "       [0, 0]])\n"
     ]
    }
   ],
   "source": [
    "import numpy as np\n",
    "\n",
    "ndstate_init = [\n",
    "    np.array([True, True]),\n",
    "    np.array([True, False]),\n",
    "    np.array([False, True]),\n",
    "    np.array([False, False]),\n",
    "]\n",
    "\n",
    "def f_ndinverse(x):\n",
    "    \"\"\"Inverse of given state.\"\"\"\n",
    "    return np.array([not x[1], not x[0]])\n",
    "\n",
    "def f_ndinverse2(x):\n",
    "    return np.invert(x)\n",
    "\n",
    "def ndsimulate(x0, f_rules, steps=10):\n",
    "    \"\"\" Simulates the boolean network from initial state by applying given rules.\"\"\"\n",
    "    states = np.zeros(shape=((steps+1), x0.size), dtype=bool)\n",
    "    \n",
    "    print(\"-\" * 40)\n",
    "    pprint(\"x0 = {}\".format(x0.astype(np.int)))\n",
    "    states[0, :] = x0\n",
    "    for k in range(steps):\n",
    "        x = states[k]\n",
    "        states[k+1, :] = f_rules(states[k, :])\n",
    "        \n",
    "    pprint(states.astype(np.int))\n",
    "    return states\n",
    "\n",
    "for x0 in ndstate_init:\n",
    "    ndsimulate(x0, f_rules=f_ndinverse)"
   ]
  },
  {
   "cell_type": "code",
   "execution_count": 20,
   "metadata": {},
   "outputs": [
    {
     "name": "stdout",
     "output_type": "stream",
     "text": [
      "----------------------------------------\n",
      "'x0 = [1 1]'\n",
      "array([[1, 1],\n",
      "       [0, 0],\n",
      "       [1, 1],\n",
      "       [0, 0],\n",
      "       [1, 1],\n",
      "       [0, 0],\n",
      "       [1, 1],\n",
      "       [0, 0],\n",
      "       [1, 1],\n",
      "       [0, 0],\n",
      "       [1, 1]])\n"
     ]
    },
    {
     "data": {
      "image/png": "[encoded data removed]",
      "text/plain": [
       "<Figure size 360x216 with 2 Axes>"
      ]
     },
     "metadata": {
      "needs_background": "light"
     },
     "output_type": "display_data"
    },
    {
     "name": "stdout",
     "output_type": "stream",
     "text": [
      "----------------------------------------\n",
      "'x0 = [1 0]'\n",
      "array([[1, 0],\n",
      "       [0, 1],\n",
      "       [1, 0],\n",
      "       [0, 1],\n",
      "       [1, 0],\n",
      "       [0, 1],\n",
      "       [1, 0],\n",
      "       [0, 1],\n",
      "       [1, 0],\n",
      "       [0, 1],\n",
      "       [1, 0]])\n"
     ]
    },
    {
     "data": {
      "image/png": "[encoded data removed]",
      "text/plain": [
       "<Figure size 360x216 with 2 Axes>"
      ]
     },
     "metadata": {
      "needs_background": "light"
     },
     "output_type": "display_data"
    },
    {
     "name": "stdout",
     "output_type": "stream",
     "text": [
      "----------------------------------------\n",
      "'x0 = [0 1]'\n",
      "array([[0, 1],\n",
      "       [1, 0],\n",
      "       [0, 1],\n",
      "       [1, 0],\n",
      "       [0, 1],\n",
      "       [1, 0],\n",
      "       [0, 1],\n",
      "       [1, 0],\n",
      "       [0, 1],\n",
      "       [1, 0],\n",
      "       [0, 1]])\n"
     ]
    },
    {
     "data": {
      "image/png": "[encoded data removed]",
      "text/plain": [
       "<Figure size 360x216 with 2 Axes>"
      ]
     },
     "metadata": {
      "needs_background": "light"
     },
     "output_type": "display_data"
    },
    {
     "name": "stdout",
     "output_type": "stream",
     "text": [
      "----------------------------------------\n",
      "'x0 = [0 0]'\n",
      "array([[0, 0],\n",
      "       [1, 1],\n",
      "       [0, 0],\n",
      "       [1, 1],\n",
      "       [0, 0],\n",
      "       [1, 1],\n",
      "       [0, 0],\n",
      "       [1, 1],\n",
      "       [0, 0],\n",
      "       [1, 1],\n",
      "       [0, 0]])\n"
     ]
    },
    {
     "data": {
      "image/png": "[encoded data removed]",
      "text/plain": [
       "<Figure size 360x216 with 2 Axes>"
      ]
     },
     "metadata": {
      "needs_background": "light"
     },
     "output_type": "display_data"
    }
   ],
   "source": [
    "from matplotlib import pylab as plt\n",
    "\n",
    "def plot_states(states, figsize=(5,3)):\n",
    "    \"\"\"Plot the states.\"\"\"\n",
    "    Nt, Nx = states.shape\n",
    "    fig = plt.figure(figsize=figsize)\n",
    "    plt.imshow(states.astype(np.double), cmap=\"binary\")\n",
    "    plt.colorbar()\n",
    "    plt.ylabel(\"time steps\")\n",
    "    plt.xlabel(\"state\")\n",
    "    ax = plt.gca()\n",
    "    ax.set_xticks(range(Nx))\n",
    "    ax.set_xticklabels(['x{}'.format(k) for k in range(Nx)])\n",
    "    plt.show()\n",
    "    \n",
    "for x0 in ndstate_init:\n",
    "    states = ndsimulate(x0, f_rules=f_ndinverse2)\n",
    "    plot_states(states)"
   ]
  },
  {
   "cell_type": "markdown",
   "metadata": {},
   "source": [
    "### Task 2\n",
    "<img src=\"Example2.png\" width=\"200\"/>\n",
    "\n",
    "* Simulate the following more complex boolean network consisting of 5 nodes (reuse the code from task 1)\n",
    "* The update rules are given by\n",
    "\n",
    "```\n",
    "X1 = INVERSE(X4)\n",
    "X5 = IDENTIY(X4)\n",
    "X2 = OR(X1, X5)\n",
    "X3 = OR(X1, X5)\n",
    "X4 = XOR(X3, X2)\n",
    "```\n",
    "\n",
    "\n",
    "* What are the possible trajectories of the boolean network, i.e. which final states (or cycles of states) are reached? (hint: simulate the network for all possible initial states)"
   ]
  },
  {
   "cell_type": "markdown",
   "metadata": {},
   "source": [
    "***Automatize***\n",
    "* if you have to do it once, you have to do it 1000 times"
   ]
  },
  {
   "cell_type": "code",
   "execution_count": null,
   "metadata": {},
   "outputs": [],
   "source": [
    "states_init = [\n",
    "    [0,0,0,0,0],\n",
    "    [1,0,0,0,0],\n",
    "    [0,1,0,0,0],\n",
    "    ...\n",
    "]"
   ]
  },
  {
   "cell_type": "code",
   "execution_count": 30,
   "metadata": {},
   "outputs": [
    {
     "data": {
      "text/plain": [
       "array([[0, 0, 0, 0, 0],\n",
       "       [0, 0, 0, 0, 1],\n",
       "       [0, 0, 0, 1, 0],\n",
       "       [0, 0, 0, 1, 1],\n",
       "       [0, 0, 1, 0, 0],\n",
       "       [0, 0, 1, 0, 1],\n",
       "       [0, 0, 1, 1, 0],\n",
       "       [0, 0, 1, 1, 1],\n",
       "       [0, 1, 0, 0, 0],\n",
       "       [0, 1, 0, 0, 1],\n",
       "       [0, 1, 0, 1, 0],\n",
       "       [0, 1, 0, 1, 1],\n",
       "       [0, 1, 1, 0, 0],\n",
       "       [0, 1, 1, 0, 1],\n",
       "       [0, 1, 1, 1, 0],\n",
       "       [0, 1, 1, 1, 1],\n",
       "       [1, 0, 0, 0, 0],\n",
       "       [1, 0, 0, 0, 1],\n",
       "       [1, 0, 0, 1, 0],\n",
       "       [1, 0, 0, 1, 1],\n",
       "       [1, 0, 1, 0, 0],\n",
       "       [1, 0, 1, 0, 1],\n",
       "       [1, 0, 1, 1, 0],\n",
       "       [1, 0, 1, 1, 1],\n",
       "       [1, 1, 0, 0, 0],\n",
       "       [1, 1, 0, 0, 1],\n",
       "       [1, 1, 0, 1, 0],\n",
       "       [1, 1, 0, 1, 1],\n",
       "       [1, 1, 1, 0, 0],\n",
       "       [1, 1, 1, 0, 1],\n",
       "       [1, 1, 1, 1, 0],\n",
       "       [1, 1, 1, 1, 1]], dtype=uint8)"
      ]
     },
     "execution_count": 30,
     "metadata": {},
     "output_type": "execute_result"
    }
   ],
   "source": [
    "states_init = np.linspace(0, 31, num=32, dtype=np.uint8)  # (32,)\n",
    "states_init = np.reshape(states_init, (32,1))\n",
    "ndstates_init = np.unpackbits(states_init, axis=1)\n",
    "ndstates_init = ndstates_init[:, 3:]\n",
    "ndstates_init"
   ]
  },
  {
   "cell_type": "code",
   "execution_count": 31,
   "metadata": {},
   "outputs": [
    {
     "name": "stdout",
     "output_type": "stream",
     "text": [
      "----------------------------------------\n",
      "'x0 = [0 0 0 0 0]'\n",
      "array([[0, 0, 0, 0, 0],\n",
      "       [1, 0, 0, 0, 0],\n",
      "       [1, 1, 1, 0, 0],\n",
      "       [1, 1, 1, 0, 0],\n",
      "       [1, 1, 1, 0, 0],\n",
      "       [1, 1, 1, 0, 0],\n",
      "       [1, 1, 1, 0, 0],\n",
      "       [1, 1, 1, 0, 0],\n",
      "       [1, 1, 1, 0, 0],\n",
      "       [1, 1, 1, 0, 0],\n",
      "       [1, 1, 1, 0, 0]])\n"
     ]
    },
    {
     "data": {
      "image/png": "[encoded data removed]",
      "text/plain": [
       "<Figure size 360x216 with 2 Axes>"
      ]
     },
     "metadata": {
      "needs_background": "light"
     },
     "output_type": "display_data"
    },
    {
     "name": "stdout",
     "output_type": "stream",
     "text": [
      "----------------------------------------\n",
      "'x0 = [0 0 0 0 1]'\n",
      "array([[0, 0, 0, 0, 1],\n",
      "       [1, 1, 1, 0, 0],\n",
      "       [1, 1, 1, 0, 0],\n",
      "       [1, 1, 1, 0, 0],\n",
      "       [1, 1, 1, 0, 0],\n",
      "       [1, 1, 1, 0, 0],\n",
      "       [1, 1, 1, 0, 0],\n",
      "       [1, 1, 1, 0, 0],\n",
      "       [1, 1, 1, 0, 0],\n",
      "       [1, 1, 1, 0, 0],\n",
      "       [1, 1, 1, 0, 0]])\n"
     ]
    },
    {
     "data": {
      "image/png": "[encoded data removed]",
      "text/plain": [
       "<Figure size 360x216 with 2 Axes>"
      ]
     },
     "metadata": {
      "needs_background": "light"
     },
     "output_type": "display_data"
    },
    {
     "name": "stdout",
     "output_type": "stream",
     "text": [
      "----------------------------------------\n",
      "'x0 = [0 0 0 1 0]'\n",
      "array([[0, 0, 0, 1, 0],\n",
      "       [0, 0, 0, 0, 1],\n",
      "       [1, 1, 1, 0, 0],\n",
      "       [1, 1, 1, 0, 0],\n",
      "       [1, 1, 1, 0, 0],\n",
      "       [1, 1, 1, 0, 0],\n",
      "       [1, 1, 1, 0, 0],\n",
      "       [1, 1, 1, 0, 0],\n",
      "       [1, 1, 1, 0, 0],\n",
      "       [1, 1, 1, 0, 0],\n",
      "       [1, 1, 1, 0, 0]])\n"
     ]
    },
    {
     "data": {
      "image/png": "[encoded data removed]",
      "text/plain": [
       "<Figure size 360x216 with 2 Axes>"
      ]
     },
     "metadata": {
      "needs_background": "light"
     },
     "output_type": "display_data"
    },
    {
     "name": "stdout",
     "output_type": "stream",
     "text": [
      "----------------------------------------\n",
      "'x0 = [0 0 0 1 1]'\n",
      "array([[0, 0, 0, 1, 1],\n",
      "       [0, 1, 1, 0, 1],\n",
      "       [1, 1, 1, 0, 0],\n",
      "       [1, 1, 1, 0, 0],\n",
      "       [1, 1, 1, 0, 0],\n",
      "       [1, 1, 1, 0, 0],\n",
      "       [1, 1, 1, 0, 0],\n",
      "       [1, 1, 1, 0, 0],\n",
      "       [1, 1, 1, 0, 0],\n",
      "       [1, 1, 1, 0, 0],\n",
      "       [1, 1, 1, 0, 0]])\n"
     ]
    },
    {
     "data": {
      "image/png": "[encoded data removed]",
      "text/plain": [
       "<Figure size 360x216 with 2 Axes>"
      ]
     },
     "metadata": {
      "needs_background": "light"
     },
     "output_type": "display_data"
    },
    {
     "name": "stdout",
     "output_type": "stream",
     "text": [
      "----------------------------------------\n",
      "'x0 = [0 0 1 0 0]'\n",
      "array([[0, 0, 1, 0, 0],\n",
      "       [1, 0, 0, 1, 0],\n",
      "       [0, 1, 1, 0, 1],\n",
      "       [1, 1, 1, 0, 0],\n",
      "       [1, 1, 1, 0, 0],\n",
      "       [1, 1, 1, 0, 0],\n",
      "       [1, 1, 1, 0, 0],\n",
      "       [1, 1, 1, 0, 0],\n",
      "       [1, 1, 1, 0, 0],\n",
      "       [1, 1, 1, 0, 0],\n",
      "       [1, 1, 1, 0, 0]])\n"
     ]
    },
    {
     "data": {
      "image/png": "[encoded data removed]",
      "text/plain": [
       "<Figure size 360x216 with 2 Axes>"
      ]
     },
     "metadata": {
      "needs_background": "light"
     },
     "output_type": "display_data"
    },
    {
     "name": "stdout",
     "output_type": "stream",
     "text": [
      "----------------------------------------\n",
      "'x0 = [0 0 1 0 1]'\n",
      "array([[0, 0, 1, 0, 1],\n",
      "       [1, 1, 1, 1, 0],\n",
      "       [0, 1, 1, 0, 1],\n",
      "       [1, 1, 1, 0, 0],\n",
      "       [1, 1, 1, 0, 0],\n",
      "       [1, 1, 1, 0, 0],\n",
      "       [1, 1, 1, 0, 0],\n",
      "       [1, 1, 1, 0, 0],\n",
      "       [1, 1, 1, 0, 0],\n",
      "       [1, 1, 1, 0, 0],\n",
      "       [1, 1, 1, 0, 0]])\n"
     ]
    },
    {
     "data": {
      "image/png": "[encoded data removed]",
      "text/plain": [
       "<Figure size 360x216 with 2 Axes>"
      ]
     },
     "metadata": {
      "needs_background": "light"
     },
     "output_type": "display_data"
    },
    {
     "name": "stdout",
     "output_type": "stream",
     "text": [
      "----------------------------------------\n",
      "'x0 = [0 0 1 1 0]'\n",
      "array([[0, 0, 1, 1, 0],\n",
      "       [0, 0, 0, 1, 1],\n",
      "       [0, 1, 1, 0, 1],\n",
      "       [1, 1, 1, 0, 0],\n",
      "       [1, 1, 1, 0, 0],\n",
      "       [1, 1, 1, 0, 0],\n",
      "       [1, 1, 1, 0, 0],\n",
      "       [1, 1, 1, 0, 0],\n",
      "       [1, 1, 1, 0, 0],\n",
      "       [1, 1, 1, 0, 0],\n",
      "       [1, 1, 1, 0, 0]])\n"
     ]
    },
    {
     "data": {
      "image/png": "[encoded data removed]",
      "text/plain": [
       "<Figure size 360x216 with 2 Axes>"
      ]
     },
     "metadata": {
      "needs_background": "light"
     },
     "output_type": "display_data"
    },
    {
     "name": "stdout",
     "output_type": "stream",
     "text": [
      "----------------------------------------\n",
      "'x0 = [0 0 1 1 1]'\n",
      "array([[0, 0, 1, 1, 1],\n",
      "       [0, 1, 1, 1, 1],\n",
      "       [0, 1, 1, 0, 1],\n",
      "       [1, 1, 1, 0, 0],\n",
      "       [1, 1, 1, 0, 0],\n",
      "       [1, 1, 1, 0, 0],\n",
      "       [1, 1, 1, 0, 0],\n",
      "       [1, 1, 1, 0, 0],\n",
      "       [1, 1, 1, 0, 0],\n",
      "       [1, 1, 1, 0, 0],\n",
      "       [1, 1, 1, 0, 0]])\n"
     ]
    },
    {
     "data": {
      "image/png": "[encoded data removed]",
      "text/plain": [
       "<Figure size 360x216 with 2 Axes>"
      ]
     },
     "metadata": {
      "needs_background": "light"
     },
     "output_type": "display_data"
    },
    {
     "name": "stdout",
     "output_type": "stream",
     "text": [
      "----------------------------------------\n",
      "'x0 = [0 1 0 0 0]'\n",
      "array([[0, 1, 0, 0, 0],\n",
      "       [1, 0, 0, 1, 0],\n",
      "       [0, 1, 1, 0, 1],\n",
      "       [1, 1, 1, 0, 0],\n",
      "       [1, 1, 1, 0, 0],\n",
      "       [1, 1, 1, 0, 0],\n",
      "       [1, 1, 1, 0, 0],\n",
      "       [1, 1, 1, 0, 0],\n",
      "       [1, 1, 1, 0, 0],\n",
      "       [1, 1, 1, 0, 0],\n",
      "       [1, 1, 1, 0, 0]])\n"
     ]
    },
    {
     "data": {
      "image/png": "[encoded data removed]",
      "text/plain": [
       "<Figure size 360x216 with 2 Axes>"
      ]
     },
     "metadata": {
      "needs_background": "light"
     },
     "output_type": "display_data"
    },
    {
     "name": "stdout",
     "output_type": "stream",
     "text": [
      "----------------------------------------\n",
      "'x0 = [0 1 0 0 1]'\n",
      "array([[0, 1, 0, 0, 1],\n",
      "       [1, 1, 1, 1, 0],\n",
      "       [0, 1, 1, 0, 1],\n",
      "       [1, 1, 1, 0, 0],\n",
      "       [1, 1, 1, 0, 0],\n",
      "       [1, 1, 1, 0, 0],\n",
      "       [1, 1, 1, 0, 0],\n",
      "       [1, 1, 1, 0, 0],\n",
      "       [1, 1, 1, 0, 0],\n",
      "       [1, 1, 1, 0, 0],\n",
      "       [1, 1, 1, 0, 0]])\n"
     ]
    },
    {
     "data": {
      "image/png": "[encoded data removed]",
      "text/plain": [
       "<Figure size 360x216 with 2 Axes>"
      ]
     },
     "metadata": {
      "needs_background": "light"
     },
     "output_type": "display_data"
    },
    {
     "name": "stdout",
     "output_type": "stream",
     "text": [
      "----------------------------------------\n",
      "'x0 = [0 1 0 1 0]'\n",
      "array([[0, 1, 0, 1, 0],\n",
      "       [0, 0, 0, 1, 1],\n",
      "       [0, 1, 1, 0, 1],\n",
      "       [1, 1, 1, 0, 0],\n",
      "       [1, 1, 1, 0, 0],\n",
      "       [1, 1, 1, 0, 0],\n",
      "       [1, 1, 1, 0, 0],\n",
      "       [1, 1, 1, 0, 0],\n",
      "       [1, 1, 1, 0, 0],\n",
      "       [1, 1, 1, 0, 0],\n",
      "       [1, 1, 1, 0, 0]])\n"
     ]
    },
    {
     "data": {
      "image/png": "[encoded data removed]",
      "text/plain": [
       "<Figure size 360x216 with 2 Axes>"
      ]
     },
     "metadata": {
      "needs_background": "light"
     },
     "output_type": "display_data"
    },
    {
     "name": "stdout",
     "output_type": "stream",
     "text": [
      "----------------------------------------\n",
      "'x0 = [0 1 0 1 1]'\n",
      "array([[0, 1, 0, 1, 1],\n",
      "       [0, 1, 1, 1, 1],\n",
      "       [0, 1, 1, 0, 1],\n",
      "       [1, 1, 1, 0, 0],\n",
      "       [1, 1, 1, 0, 0],\n",
      "       [1, 1, 1, 0, 0],\n",
      "       [1, 1, 1, 0, 0],\n",
      "       [1, 1, 1, 0, 0],\n",
      "       [1, 1, 1, 0, 0],\n",
      "       [1, 1, 1, 0, 0],\n",
      "       [1, 1, 1, 0, 0]])\n"
     ]
    },
    {
     "data": {
      "image/png": "[encoded data removed]",
      "text/plain": [
       "<Figure size 360x216 with 2 Axes>"
      ]
     },
     "metadata": {
      "needs_background": "light"
     },
     "output_type": "display_data"
    },
    {
     "name": "stdout",
     "output_type": "stream",
     "text": [
      "----------------------------------------\n",
      "'x0 = [0 1 1 0 0]'\n",
      "array([[0, 1, 1, 0, 0],\n",
      "       [1, 0, 0, 0, 0],\n",
      "       [1, 1, 1, 0, 0],\n",
      "       [1, 1, 1, 0, 0],\n",
      "       [1, 1, 1, 0, 0],\n",
      "       [1, 1, 1, 0, 0],\n",
      "       [1, 1, 1, 0, 0],\n",
      "       [1, 1, 1, 0, 0],\n",
      "       [1, 1, 1, 0, 0],\n",
      "       [1, 1, 1, 0, 0],\n",
      "       [1, 1, 1, 0, 0]])\n"
     ]
    },
    {
     "data": {
      "image/png": "[encoded data removed]",
      "text/plain": [
       "<Figure size 360x216 with 2 Axes>"
      ]
     },
     "metadata": {
      "needs_background": "light"
     },
     "output_type": "display_data"
    },
    {
     "name": "stdout",
     "output_type": "stream",
     "text": [
      "----------------------------------------\n",
      "'x0 = [0 1 1 0 1]'\n",
      "array([[0, 1, 1, 0, 1],\n",
      "       [1, 1, 1, 0, 0],\n",
      "       [1, 1, 1, 0, 0],\n",
      "       [1, 1, 1, 0, 0],\n",
      "       [1, 1, 1, 0, 0],\n",
      "       [1, 1, 1, 0, 0],\n",
      "       [1, 1, 1, 0, 0],\n",
      "       [1, 1, 1, 0, 0],\n",
      "       [1, 1, 1, 0, 0],\n",
      "       [1, 1, 1, 0, 0],\n",
      "       [1, 1, 1, 0, 0]])\n"
     ]
    },
    {
     "data": {
      "image/png": "[encoded data removed]",
      "text/plain": [
       "<Figure size 360x216 with 2 Axes>"
      ]
     },
     "metadata": {
      "needs_background": "light"
     },
     "output_type": "display_data"
    },
    {
     "name": "stdout",
     "output_type": "stream",
     "text": [
      "----------------------------------------\n",
      "'x0 = [0 1 1 1 0]'\n",
      "array([[0, 1, 1, 1, 0],\n",
      "       [0, 0, 0, 0, 1],\n",
      "       [1, 1, 1, 0, 0],\n",
      "       [1, 1, 1, 0, 0],\n",
      "       [1, 1, 1, 0, 0],\n",
      "       [1, 1, 1, 0, 0],\n",
      "       [1, 1, 1, 0, 0],\n",
      "       [1, 1, 1, 0, 0],\n",
      "       [1, 1, 1, 0, 0],\n",
      "       [1, 1, 1, 0, 0],\n",
      "       [1, 1, 1, 0, 0]])\n"
     ]
    },
    {
     "data": {
      "image/png": "[encoded data removed]",
      "text/plain": [
       "<Figure size 360x216 with 2 Axes>"
      ]
     },
     "metadata": {
      "needs_background": "light"
     },
     "output_type": "display_data"
    },
    {
     "name": "stdout",
     "output_type": "stream",
     "text": [
      "----------------------------------------\n",
      "'x0 = [0 1 1 1 1]'\n",
      "array([[0, 1, 1, 1, 1],\n",
      "       [0, 1, 1, 0, 1],\n",
      "       [1, 1, 1, 0, 0],\n",
      "       [1, 1, 1, 0, 0],\n",
      "       [1, 1, 1, 0, 0],\n",
      "       [1, 1, 1, 0, 0],\n",
      "       [1, 1, 1, 0, 0],\n",
      "       [1, 1, 1, 0, 0],\n",
      "       [1, 1, 1, 0, 0],\n",
      "       [1, 1, 1, 0, 0],\n",
      "       [1, 1, 1, 0, 0]])\n"
     ]
    },
    {
     "data": {
      "image/png": "[encoded data removed]",
      "text/plain": [
       "<Figure size 360x216 with 2 Axes>"
      ]
     },
     "metadata": {
      "needs_background": "light"
     },
     "output_type": "display_data"
    },
    {
     "name": "stdout",
     "output_type": "stream",
     "text": [
      "----------------------------------------\n",
      "'x0 = [1 0 0 0 0]'\n",
      "array([[1, 0, 0, 0, 0],\n",
      "       [1, 1, 1, 0, 0],\n",
      "       [1, 1, 1, 0, 0],\n",
      "       [1, 1, 1, 0, 0],\n",
      "       [1, 1, 1, 0, 0],\n",
      "       [1, 1, 1, 0, 0],\n",
      "       [1, 1, 1, 0, 0],\n",
      "       [1, 1, 1, 0, 0],\n",
      "       [1, 1, 1, 0, 0],\n",
      "       [1, 1, 1, 0, 0],\n",
      "       [1, 1, 1, 0, 0]])\n"
     ]
    },
    {
     "data": {
      "image/png": "[encoded data removed]",
      "text/plain": [
       "<Figure size 360x216 with 2 Axes>"
      ]
     },
     "metadata": {
      "needs_background": "light"
     },
     "output_type": "display_data"
    },
    {
     "name": "stdout",
     "output_type": "stream",
     "text": [
      "----------------------------------------\n",
      "'x0 = [1 0 0 0 1]'\n",
      "array([[1, 0, 0, 0, 1],\n",
      "       [1, 1, 1, 0, 0],\n",
      "       [1, 1, 1, 0, 0],\n",
      "       [1, 1, 1, 0, 0],\n",
      "       [1, 1, 1, 0, 0],\n",
      "       [1, 1, 1, 0, 0],\n",
      "       [1, 1, 1, 0, 0],\n",
      "       [1, 1, 1, 0, 0],\n",
      "       [1, 1, 1, 0, 0],\n",
      "       [1, 1, 1, 0, 0],\n",
      "       [1, 1, 1, 0, 0]])\n"
     ]
    },
    {
     "data": {
      "image/png": "[encoded data removed]",
      "text/plain": [
       "<Figure size 360x216 with 2 Axes>"
      ]
     },
     "metadata": {
      "needs_background": "light"
     },
     "output_type": "display_data"
    },
    {
     "name": "stdout",
     "output_type": "stream",
     "text": [
      "----------------------------------------\n",
      "'x0 = [1 0 0 1 0]'\n",
      "array([[1, 0, 0, 1, 0],\n",
      "       [0, 1, 1, 0, 1],\n",
      "       [1, 1, 1, 0, 0],\n",
      "       [1, 1, 1, 0, 0],\n",
      "       [1, 1, 1, 0, 0],\n",
      "       [1, 1, 1, 0, 0],\n",
      "       [1, 1, 1, 0, 0],\n",
      "       [1, 1, 1, 0, 0],\n",
      "       [1, 1, 1, 0, 0],\n",
      "       [1, 1, 1, 0, 0],\n",
      "       [1, 1, 1, 0, 0]])\n"
     ]
    },
    {
     "data": {
      "image/png": "[encoded data removed]",
      "text/plain": [
       "<Figure size 360x216 with 2 Axes>"
      ]
     },
     "metadata": {
      "needs_background": "light"
     },
     "output_type": "display_data"
    },
    {
     "name": "stdout",
     "output_type": "stream",
     "text": [
      "----------------------------------------\n",
      "'x0 = [1 0 0 1 1]'\n",
      "array([[1, 0, 0, 1, 1],\n",
      "       [0, 1, 1, 0, 1],\n",
      "       [1, 1, 1, 0, 0],\n",
      "       [1, 1, 1, 0, 0],\n",
      "       [1, 1, 1, 0, 0],\n",
      "       [1, 1, 1, 0, 0],\n",
      "       [1, 1, 1, 0, 0],\n",
      "       [1, 1, 1, 0, 0],\n",
      "       [1, 1, 1, 0, 0],\n",
      "       [1, 1, 1, 0, 0],\n",
      "       [1, 1, 1, 0, 0]])\n"
     ]
    },
    {
     "data": {
      "image/png": "[encoded data removed]",
      "text/plain": [
       "<Figure size 360x216 with 2 Axes>"
      ]
     },
     "metadata": {
      "needs_background": "light"
     },
     "output_type": "display_data"
    },
    {
     "name": "stdout",
     "output_type": "stream",
     "text": [
      "----------------------------------------\n",
      "'x0 = [1 0 1 0 0]'\n",
      "array([[1, 0, 1, 0, 0],\n",
      "       [1, 1, 1, 1, 0],\n",
      "       [0, 1, 1, 0, 1],\n",
      "       [1, 1, 1, 0, 0],\n",
      "       [1, 1, 1, 0, 0],\n",
      "       [1, 1, 1, 0, 0],\n",
      "       [1, 1, 1, 0, 0],\n",
      "       [1, 1, 1, 0, 0],\n",
      "       [1, 1, 1, 0, 0],\n",
      "       [1, 1, 1, 0, 0],\n",
      "       [1, 1, 1, 0, 0]])\n"
     ]
    },
    {
     "data": {
      "image/png": "[encoded data removed]",
      "text/plain": [
       "<Figure size 360x216 with 2 Axes>"
      ]
     },
     "metadata": {
      "needs_background": "light"
     },
     "output_type": "display_data"
    },
    {
     "name": "stdout",
     "output_type": "stream",
     "text": [
      "----------------------------------------\n",
      "'x0 = [1 0 1 0 1]'\n",
      "array([[1, 0, 1, 0, 1],\n",
      "       [1, 1, 1, 1, 0],\n",
      "       [0, 1, 1, 0, 1],\n",
      "       [1, 1, 1, 0, 0],\n",
      "       [1, 1, 1, 0, 0],\n",
      "       [1, 1, 1, 0, 0],\n",
      "       [1, 1, 1, 0, 0],\n",
      "       [1, 1, 1, 0, 0],\n",
      "       [1, 1, 1, 0, 0],\n",
      "       [1, 1, 1, 0, 0],\n",
      "       [1, 1, 1, 0, 0]])\n"
     ]
    },
    {
     "data": {
      "image/png": "[encoded data removed]",
      "text/plain": [
       "<Figure size 360x216 with 2 Axes>"
      ]
     },
     "metadata": {
      "needs_background": "light"
     },
     "output_type": "display_data"
    },
    {
     "name": "stdout",
     "output_type": "stream",
     "text": [
      "----------------------------------------\n",
      "'x0 = [1 0 1 1 0]'\n",
      "array([[1, 0, 1, 1, 0],\n",
      "       [0, 1, 1, 1, 1],\n",
      "       [0, 1, 1, 0, 1],\n",
      "       [1, 1, 1, 0, 0],\n",
      "       [1, 1, 1, 0, 0],\n",
      "       [1, 1, 1, 0, 0],\n",
      "       [1, 1, 1, 0, 0],\n",
      "       [1, 1, 1, 0, 0],\n",
      "       [1, 1, 1, 0, 0],\n",
      "       [1, 1, 1, 0, 0],\n",
      "       [1, 1, 1, 0, 0]])\n"
     ]
    },
    {
     "data": {
      "image/png": "[encoded data removed]",
      "text/plain": [
       "<Figure size 360x216 with 2 Axes>"
      ]
     },
     "metadata": {
      "needs_background": "light"
     },
     "output_type": "display_data"
    },
    {
     "name": "stdout",
     "output_type": "stream",
     "text": [
      "----------------------------------------\n",
      "'x0 = [1 0 1 1 1]'\n",
      "array([[1, 0, 1, 1, 1],\n",
      "       [0, 1, 1, 1, 1],\n",
      "       [0, 1, 1, 0, 1],\n",
      "       [1, 1, 1, 0, 0],\n",
      "       [1, 1, 1, 0, 0],\n",
      "       [1, 1, 1, 0, 0],\n",
      "       [1, 1, 1, 0, 0],\n",
      "       [1, 1, 1, 0, 0],\n",
      "       [1, 1, 1, 0, 0],\n",
      "       [1, 1, 1, 0, 0],\n",
      "       [1, 1, 1, 0, 0]])\n"
     ]
    },
    {
     "data": {
      "image/png": "[encoded data removed]",
      "text/plain": [
       "<Figure size 360x216 with 2 Axes>"
      ]
     },
     "metadata": {
      "needs_background": "light"
     },
     "output_type": "display_data"
    },
    {
     "name": "stdout",
     "output_type": "stream",
     "text": [
      "----------------------------------------\n",
      "'x0 = [1 1 0 0 0]'\n",
      "array([[1, 1, 0, 0, 0],\n",
      "       [1, 1, 1, 1, 0],\n",
      "       [0, 1, 1, 0, 1],\n",
      "       [1, 1, 1, 0, 0],\n",
      "       [1, 1, 1, 0, 0],\n",
      "       [1, 1, 1, 0, 0],\n",
      "       [1, 1, 1, 0, 0],\n",
      "       [1, 1, 1, 0, 0],\n",
      "       [1, 1, 1, 0, 0],\n",
      "       [1, 1, 1, 0, 0],\n",
      "       [1, 1, 1, 0, 0]])\n"
     ]
    },
    {
     "data": {
      "image/png": "[encoded data removed]",
      "text/plain": [
       "<Figure size 360x216 with 2 Axes>"
      ]
     },
     "metadata": {
      "needs_background": "light"
     },
     "output_type": "display_data"
    },
    {
     "name": "stdout",
     "output_type": "stream",
     "text": [
      "----------------------------------------\n",
      "'x0 = [1 1 0 0 1]'\n",
      "array([[1, 1, 0, 0, 1],\n",
      "       [1, 1, 1, 1, 0],\n",
      "       [0, 1, 1, 0, 1],\n",
      "       [1, 1, 1, 0, 0],\n",
      "       [1, 1, 1, 0, 0],\n",
      "       [1, 1, 1, 0, 0],\n",
      "       [1, 1, 1, 0, 0],\n",
      "       [1, 1, 1, 0, 0],\n",
      "       [1, 1, 1, 0, 0],\n",
      "       [1, 1, 1, 0, 0],\n",
      "       [1, 1, 1, 0, 0]])\n"
     ]
    },
    {
     "data": {
      "image/png": "[encoded data removed]",
      "text/plain": [
       "<Figure size 360x216 with 2 Axes>"
      ]
     },
     "metadata": {
      "needs_background": "light"
     },
     "output_type": "display_data"
    },
    {
     "name": "stdout",
     "output_type": "stream",
     "text": [
      "----------------------------------------\n",
      "'x0 = [1 1 0 1 0]'\n",
      "array([[1, 1, 0, 1, 0],\n",
      "       [0, 1, 1, 1, 1],\n",
      "       [0, 1, 1, 0, 1],\n",
      "       [1, 1, 1, 0, 0],\n",
      "       [1, 1, 1, 0, 0],\n",
      "       [1, 1, 1, 0, 0],\n",
      "       [1, 1, 1, 0, 0],\n",
      "       [1, 1, 1, 0, 0],\n",
      "       [1, 1, 1, 0, 0],\n",
      "       [1, 1, 1, 0, 0],\n",
      "       [1, 1, 1, 0, 0]])\n"
     ]
    },
    {
     "data": {
      "image/png": "[encoded data removed]",
      "text/plain": [
       "<Figure size 360x216 with 2 Axes>"
      ]
     },
     "metadata": {
      "needs_background": "light"
     },
     "output_type": "display_data"
    },
    {
     "name": "stdout",
     "output_type": "stream",
     "text": [
      "----------------------------------------\n",
      "'x0 = [1 1 0 1 1]'\n",
      "array([[1, 1, 0, 1, 1],\n",
      "       [0, 1, 1, 1, 1],\n",
      "       [0, 1, 1, 0, 1],\n",
      "       [1, 1, 1, 0, 0],\n",
      "       [1, 1, 1, 0, 0],\n",
      "       [1, 1, 1, 0, 0],\n",
      "       [1, 1, 1, 0, 0],\n",
      "       [1, 1, 1, 0, 0],\n",
      "       [1, 1, 1, 0, 0],\n",
      "       [1, 1, 1, 0, 0],\n",
      "       [1, 1, 1, 0, 0]])\n"
     ]
    },
    {
     "data": {
      "image/png": "[encoded data removed]",
      "text/plain": [
       "<Figure size 360x216 with 2 Axes>"
      ]
     },
     "metadata": {
      "needs_background": "light"
     },
     "output_type": "display_data"
    },
    {
     "name": "stdout",
     "output_type": "stream",
     "text": [
      "----------------------------------------\n",
      "'x0 = [1 1 1 0 0]'\n",
      "array([[1, 1, 1, 0, 0],\n",
      "       [1, 1, 1, 0, 0],\n",
      "       [1, 1, 1, 0, 0],\n",
      "       [1, 1, 1, 0, 0],\n",
      "       [1, 1, 1, 0, 0],\n",
      "       [1, 1, 1, 0, 0],\n",
      "       [1, 1, 1, 0, 0],\n",
      "       [1, 1, 1, 0, 0],\n",
      "       [1, 1, 1, 0, 0],\n",
      "       [1, 1, 1, 0, 0],\n",
      "       [1, 1, 1, 0, 0]])\n"
     ]
    },
    {
     "data": {
      "image/png": "[encoded data removed]",
      "text/plain": [
       "<Figure size 360x216 with 2 Axes>"
      ]
     },
     "metadata": {
      "needs_background": "light"
     },
     "output_type": "display_data"
    },
    {
     "name": "stdout",
     "output_type": "stream",
     "text": [
      "----------------------------------------\n",
      "'x0 = [1 1 1 0 1]'\n",
      "array([[1, 1, 1, 0, 1],\n",
      "       [1, 1, 1, 0, 0],\n",
      "       [1, 1, 1, 0, 0],\n",
      "       [1, 1, 1, 0, 0],\n",
      "       [1, 1, 1, 0, 0],\n",
      "       [1, 1, 1, 0, 0],\n",
      "       [1, 1, 1, 0, 0],\n",
      "       [1, 1, 1, 0, 0],\n",
      "       [1, 1, 1, 0, 0],\n",
      "       [1, 1, 1, 0, 0],\n",
      "       [1, 1, 1, 0, 0]])\n"
     ]
    },
    {
     "data": {
      "image/png": "[encoded data removed]",
      "text/plain": [
       "<Figure size 360x216 with 2 Axes>"
      ]
     },
     "metadata": {
      "needs_background": "light"
     },
     "output_type": "display_data"
    },
    {
     "name": "stdout",
     "output_type": "stream",
     "text": [
      "----------------------------------------\n",
      "'x0 = [1 1 1 1 0]'\n",
      "array([[1, 1, 1, 1, 0],\n",
      "       [0, 1, 1, 0, 1],\n",
      "       [1, 1, 1, 0, 0],\n",
      "       [1, 1, 1, 0, 0],\n",
      "       [1, 1, 1, 0, 0],\n",
      "       [1, 1, 1, 0, 0],\n",
      "       [1, 1, 1, 0, 0],\n",
      "       [1, 1, 1, 0, 0],\n",
      "       [1, 1, 1, 0, 0],\n",
      "       [1, 1, 1, 0, 0],\n",
      "       [1, 1, 1, 0, 0]])\n"
     ]
    },
    {
     "data": {
      "image/png": "[encoded data removed]",
      "text/plain": [
       "<Figure size 360x216 with 2 Axes>"
      ]
     },
     "metadata": {
      "needs_background": "light"
     },
     "output_type": "display_data"
    },
    {
     "name": "stdout",
     "output_type": "stream",
     "text": [
      "----------------------------------------\n",
      "'x0 = [1 1 1 1 1]'\n",
      "array([[1, 1, 1, 1, 1],\n",
      "       [0, 1, 1, 0, 1],\n",
      "       [1, 1, 1, 0, 0],\n",
      "       [1, 1, 1, 0, 0],\n",
      "       [1, 1, 1, 0, 0],\n",
      "       [1, 1, 1, 0, 0],\n",
      "       [1, 1, 1, 0, 0],\n",
      "       [1, 1, 1, 0, 0],\n",
      "       [1, 1, 1, 0, 0],\n",
      "       [1, 1, 1, 0, 0],\n",
      "       [1, 1, 1, 0, 0]])\n"
     ]
    },
    {
     "data": {
      "image/png": "[encoded data removed]",
      "text/plain": [
       "<Figure size 360x216 with 2 Axes>"
      ]
     },
     "metadata": {
      "needs_background": "light"
     },
     "output_type": "display_data"
    }
   ],
   "source": [
    "def f_task2(x):\n",
    "    \"\"\"\n",
    "    X0 = INVERSE(X3)\n",
    "    X4 = IDENTIY(X3)\n",
    "    X1 = OR(X0, X4)\n",
    "    X2 = OR(X0, X4)\n",
    "    X3 = XOR(X2, X1)\n",
    "    \"\"\"\n",
    "    y = np.zeros_like(x)\n",
    "    y[0] = np.invert(x[3])\n",
    "    y[4] = x[3]\n",
    "    y[1] = x[0] or x[4]\n",
    "    y[2] = x[0] or x[4]\n",
    "    \n",
    "    # xor hack\n",
    "    y[3] = x[2] or x[1]\n",
    "    if (x[2] and x[1]):\n",
    "        y[3] = False\n",
    "    \n",
    "    return y\n",
    "\n",
    "def ndsimulate(x0, f_rules, steps=10):\n",
    "    \"\"\" Simulates the boolean network from initial state by applying given rules.\"\"\"\n",
    "    states = np.zeros(shape=((steps+1), x0.size), dtype=bool)\n",
    "    \n",
    "    print(\"-\" * 40)\n",
    "    pprint(\"x0 = {}\".format(x0.astype(np.int)))\n",
    "    states[0, :] = x0\n",
    "    for k in range(steps):\n",
    "        x = states[k]\n",
    "        states[k+1, :] = f_rules(states[k, :])\n",
    "        \n",
    "    pprint(states.astype(np.int))\n",
    "    return states\n",
    "\n",
    "for x0 in ndstates_init:\n",
    "    states = ndsimulate(x0, f_rules=f_task2)\n",
    "    plot_states(states)"
   ]
  },
  {
   "cell_type": "markdown",
   "metadata": {},
   "source": [
    "***Reuse the solution***"
   ]
  },
  {
   "cell_type": "code",
   "execution_count": null,
   "metadata": {},
   "outputs": [],
   "source": []
  },
  {
   "cell_type": "markdown",
   "metadata": {},
   "source": [
    "## Cellular automaton"
   ]
  },
  {
   "cell_type": "markdown",
   "metadata": {},
   "source": [
    "A cellular automaton is a discrete model studied in computer science, mathematics, physics, complexity science, theoretical biology and microstructure modeling. \n",
    "\n",
    "<img src=\"Gospers_glider_gun.gif\" width=\"200\"/>\n",
    "\n",
    "- A cellular automaton consists of a regular grid of cells, each in one of a finite number of states, such as on and off. \n",
    "- For each cell, a set of cells called its neighborhood is defined relative to the specified cell. \n",
    "- An initial state (time t = 0) is selected by assigning a state for each cell. \n",
    "- A new generation is created (advancing t by 1), according to some fixed rule (generally, a mathematical function) that determines the new state of each cell in terms of the current state of the cell and the states of the cells in its neighborhood. \n",
    "- Typically, the rule for updating the state of cells is the same for each cell and does not change over time, and is applied to the whole grid simultaneously.\n",
    "\n",
    "For more information see https://en.wikipedia.org/wiki/Cellular_automaton.\n",
    "\n",
    "A more in depth introduction with hints how to solve the task is given in https://natureofcode.com/book/chapter-7-cellular-automata/"
   ]
  },
  {
   "cell_type": "markdown",
   "metadata": {},
   "source": [
    "### Task 3\n",
    "Build and simulate the simple cellular automaton with the following characteristics:\n",
    "\n",
    "- **Grid**: We will use the simplest possible grid, which is one-dimensional: a line of cells.\n",
    "- **States**: The simplest set of states (beyond having only one state) are the two possible states per cell: 0 or 1.\n",
    "- **Neighborhood**: The simplest neighborhood in one dimension for any given cell would be the cell itself and its two adjacent neighbors: one to the left and one to the right.\n",
    "- **Rules**: Define how a cell is updated based on its neighborhood. The simplest rules are identical rules for every cell.\n",
    "\n",
    "For the update rules we need to define an outcome (new state value 0 or 1) for a cell based on its current neighborhood.\n",
    "The following rules are applied:\n",
    "\n",
    "```\n",
    "neighborhood (with cell in the center) -> new state of cell\n",
    "000 -> 0\n",
    "001 -> 1\n",
    "010 -> 0\n",
    "011 -> 1\n",
    "100 -> 1\n",
    "101 -> 0\n",
    "110 -> 1\n",
    "111 -> 0\n",
    "```\n",
    "- the one dimensional grid contains `101` cells\n",
    "- the initial state of all cells is 0, with exception of the cell in the middle of the grid which starts with state 1"
   ]
  },
  {
   "cell_type": "markdown",
   "metadata": {},
   "source": [
    "***Cellular automaton as a special boolean network***"
   ]
  },
  {
   "cell_type": "code",
   "execution_count": 40,
   "metadata": {},
   "outputs": [
    {
     "name": "stdout",
     "output_type": "stream",
     "text": [
      "----------------------------------------\n",
      "('x0 = [0 0 0 0 0 0 0 0 0 0 0 0 0 0 0 0 0 0 0 0 0 0 0 0 0 0 0 0 0 0 0 0 0 0 0 '\n",
      " '0 0\\n'\n",
      " ' 0 0 0 0 0 0 0 0 0 0 0 0 0 0 0 0 0 0 0 0 0 0 0 0 0 0 0 0 0 0 0 0 0 0 0 0 0\\n'\n",
      " ' 0 0 0 0 0 0 0 0 0 0 0 0 0 0 0 0 0 0 0 0 0 0 0 0 0 0 0 0 0 0 0 0 0 0 0 0 0\\n'\n",
      " ' 0 0 0 0 0 0 0 0 0 0 0 0 0 0 0 0 0 0 0 0 0 0 0 0 0 0 0 0 0 0 0 0 0 0 0 0 0\\n'\n",
      " ' 0 0 0 0 0 0 0 0 0 0 0 0 0 0 0 0 0 0 0 0 0 0 0 0 0 0 0 0 0 0 0 0 0 0 0 0 0\\n'\n",
      " ' 0 0 0 0 0 0 0 0 0 0 0 0 0 0 0 0 1 0 0 0 0 0 0 0 0 0 0 0 0 0 0 0 0 0 0 0 0\\n'\n",
      " ' 0 0 0 0 0 0 0 0 0 0 0 0 0 0 0 0 0 0 0 0 0 0 0 0 0 0 0 0 0 0 0 0 0 0 0 0 0\\n'\n",
      " ' 0 0 0 0 0 0 0 0 0 0 0 0 0 0 0 0 0 0 0 0 0 0 0 0 0 0 0 0 0 0 0 0 0 0 0 0 0\\n'\n",
      " ' 0 0 0 0 0 0 0 0 0 0 0 0 0 0 0 0 0 0 0 0 0 0 0 0 0 0 0 0 0 0 0 0 0 0 0 0 0\\n'\n",
      " ' 0 0 0 0 0 0 0 0 0 0 0 0 0 0 0 0 0 0 0 0 0 0 0 0 0 0 0 0 0 0 0 0 0 0 0 0 0\\n'\n",
      " ' 0 0 0 0 0 0 0 0 0 0 0 0 0 0 0 0 0 0 0 0 0 0 0 0 0 0 0 0 0 0 0]')\n",
      "array([[0, 0, 0, ..., 0, 0, 0],\n",
      "       [0, 0, 0, ..., 0, 0, 0],\n",
      "       [0, 0, 0, ..., 0, 0, 0],\n",
      "       ...,\n",
      "       [0, 0, 0, ..., 0, 0, 0],\n",
      "       [0, 0, 0, ..., 0, 0, 0],\n",
      "       [0, 0, 0, ..., 1, 0, 0]])\n"
     ]
    },
    {
     "data": {
      "image/png": "[encoded data removed]",
      "text/plain": [
       "<Figure size 504x504 with 2 Axes>"
      ]
     },
     "metadata": {
      "needs_background": "light"
     },
     "output_type": "display_data"
    }
   ],
   "source": [
    "def f_automaton(x):\n",
    "    \"\"\" New state based on neighborhood (cell in center)\n",
    "    000 -> 0  [0]\n",
    "    001 -> 1  [1]\n",
    "    010 -> 0  [2]\n",
    "    011 -> 1  [3]\n",
    "    100 -> 1  [4]\n",
    "    101 -> 0  [5]\n",
    "    110 -> 1  [6]\n",
    "    111 -> 0  [7]\n",
    "    \"\"\"\n",
    "    Nx = x.size\n",
    "    y = np.zeros_like(x)\n",
    "    for k in range(Nx):\n",
    "        \n",
    "        s = np.zeros(shape=(3,))\n",
    "        # get the neighborhood\n",
    "        if k==0:\n",
    "            s[0] = x[-1]\n",
    "            s[1] = x[0]\n",
    "            s[2] = x[1]\n",
    "        elif k==(Nx-1):\n",
    "            s[0] = x[Nx-2]\n",
    "            s[1] = x[Nx-1]\n",
    "            s[2] = x[0]\n",
    "        else:\n",
    "            s = x[(k-1):(k+2)]\n",
    "    \n",
    "        s = ''.join(s.astype(np.uint8).astype(str))\n",
    "    \n",
    "        # update based on neighborhood\n",
    "        if s == '000':\n",
    "            y[k] = 0\n",
    "        elif s == '001':\n",
    "            y[k] = 1\n",
    "        elif s == '010':\n",
    "            y[k] = 0\n",
    "        elif s == '011':\n",
    "            y[k] = 1\n",
    "        elif s == '100':\n",
    "            y[k] = 1\n",
    "        elif s == '101':\n",
    "            y[k] = 0\n",
    "        elif s == '110':\n",
    "            y[k] = 1\n",
    "        elif s == '111':\n",
    "            y[k] = 0\n",
    "    return y\n",
    "\n",
    "# initial condition\n",
    "Nx = 401\n",
    "x0 = np.zeros(Nx, dtype=bool)\n",
    "x0[int((Nx-1)/2 + 1)] = 1\n",
    "\n",
    "states = ndsimulate(x0, f_rules=f_automaton, steps=500)\n",
    "plot_states(states, figsize=(7,7))"
   ]
  },
  {
   "cell_type": "code",
   "execution_count": 37,
   "metadata": {},
   "outputs": [],
   "source": [
    "# Create animation\n",
    "Nt, Nx = states.shape\n",
    "filenames = []\n",
    "for k in range(Nt):\n",
    "    filename = \"./results/automaton_{:04}.png\".format(k)\n",
    "    # print(filename)\n",
    "    \n",
    "    fig = plt.figure(figsize=(10,4))\n",
    "    data = states[k,:].astype(np.double)\n",
    "    data = data.reshape((1, Nx))\n",
    "    \n",
    "    plt.imshow(data, cmap=\"binary\")\n",
    "    plt.title(\"time: {}\".format(k))\n",
    "    # plt.ylabel(\"time: {}\".format(k))\n",
    "    # plt.xlabel(\"state\")\n",
    "    ax = plt.gca()\n",
    "    ax.set_xticks([])\n",
    "    ax.set_xticklabels([])\n",
    "    ax.set_yticks([])\n",
    "    ax.set_yticklabels([])\n",
    "    \n",
    "    fig.savefig(filename, bbox_inches=\"tight\")\n",
    "    plt.close()\n",
    "    filenames.append(filename)\n",
    "\n",
    "import imageio\n",
    "\n",
    "def create_gif(output_file, filenames, duration):\n",
    "    images = []\n",
    "    for filename in filenames:\n",
    "        images.append(imageio.imread(filename))\n",
    "    imageio.mimsave(output_file, images, duration=duration)\n",
    "\n",
    "create_gif('automaton.gif', filenames, duration=0.2)"
   ]
  },
  {
   "cell_type": "markdown",
   "metadata": {},
   "source": [
    "<img src=\"automaton.gif\" width=\"1000\"/>"
   ]
  },
  {
   "cell_type": "code",
   "execution_count": null,
   "metadata": {},
   "outputs": [],
   "source": []
  }
 ],
 "metadata": {
  "kernelspec": {
   "display_name": "modelling",
   "language": "python",
   "name": "modelling"
  },
  "language_info": {
   "codemirror_mode": {
    "name": "ipython",
    "version": 3
   },
   "file_extension": ".py",
   "mimetype": "text/x-python",
   "name": "python",
   "nbconvert_exporter": "python",
   "pygments_lexer": "ipython3",
   "version": "3.6.3"
  }
 },
 "nbformat": 4,
 "nbformat_minor": 2
}
