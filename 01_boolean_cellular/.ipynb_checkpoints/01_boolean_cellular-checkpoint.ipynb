{
 "cells": [
  {
   "cell_type": "markdown",
   "metadata": {},
   "source": [
    "# 01 Boolean Networks & Cell Automata"
   ]
  },
  {
   "cell_type": "markdown",
   "metadata": {},
   "source": [
    "## Short introduction to python\n",
    "The tutorials and excercises will be based on `python`. A basic understanding of programming and the python language is required. \n",
    "\n",
    "Installation:\n",
    "- https://wiki.python.org/moin/BeginnersGuide/Download\n",
    "\n",
    "There a lot of good basic tutorials\n",
    "- https://www.learnpython.org/ -  interactive python tutorial\n",
    "- https://docs.python.org/3/tutorial/index.html - official tutorial, more in depth"
   ]
  },
  {
   "cell_type": "markdown",
   "metadata": {},
   "source": [
    "## Simple Boolean Network\n",
    "We want to simulate a basic boolean network with three states `A`, `B` and `C`.\n",
    "The state vector `[A, B, C]` is updated based on the defined rules for the boolean network in every step, i.e. by applying the rules we update the state vector\n",
    "\n",
    "\n",
    "A -> B -> C - >\n",
    "\n",
    "TODO: graph of network (1 dimensional input, chain and circle)\n",
    "\n",
    "TODO: \n",
    "\n",
    "```\n",
    "[A, B, C](k) --> [A, B, C](k+1)\n",
    "```\n",
    "- The boolean states can be either 0 or 1.\n",
    "- The initial state of the boolean system is `[A, B, C](0) = [1,0,1]`\n",
    "- The rules \n",
    "\n",
    "\n",
    "General Properties of Boolean Networks:\n",
    "- Fixed topology (doesn’t change with time)\n",
    "- Dynamic (states \n",
    "- Synchronous (update of all states occurs at the same time)\n",
    "- Node States: Deterministic, discrete (binary)\n",
    "- Gate Function: Boolean (rules which calculate the update for the state)\n",
    "- Flow: Information\n",
    "\n",
    "Rules:\n",
    "- every node (state) in the boolean network has a rule which specifies the output of the node (state) for all possible combinations of inputs\n",
    "\n",
    "e.g., one dimensional input\n",
    "- identity (`[0]->[0], [1]->[1]`) \n",
    "- inverse (`[0]->[1], [1]->[0]`)\n",
    "- zero (`[0]->[0], [1]->[0]`)\n",
    "- one ([1] -> [1], [0] -> [0])\n",
    "\n",
    "For two dimensional inputs the logical rules are for instance\n",
    "- AND (`[1,1]->[1], [1,0]->[0], [0,1]->[1], [0,0]->[0]`) \n",
    "- OR\n",
    "- XOR\n",
    "- NOR\n",
    "...\n",
    "\n",
    "Additional information:\n",
    "- Truth tables for unary and binary operations: https://en.wikipedia.org/wiki/Truth_table"
   ]
  },
  {
   "cell_type": "markdown",
   "metadata": {},
   "source": [
    "### Task 1\n",
    "<img src=\"Example1.png\" width=\"200\"/>\n",
    "\n",
    "* Write a computer program which simulates the simple boolean networks consisting of the two nodes `X1` and `X2` with the initial state `[X1, X2](0) = [0, 1]`. The bbolean rules `r1` for updating `X1` and `r2` for updating X2 are the unary `inverse` rule for 20 steps.\n",
    "* What are the possible trajectories of the boolean network, i.e. which sequence of states are possible? (hint: simulate the network for all possible initial states)"
   ]
  },
  {
   "cell_type": "code",
   "execution_count": null,
   "metadata": {},
   "outputs": [],
   "source": [
    "N = 20  # number of iterations\n",
    "states = [[0, 1]]  # initial state\n",
    "for k in N:\n",
    "    # get last states\n",
    "    X = states[i]\n",
    "    \n",
    "    # TODO: update state based on rules\n",
    "    Xnew = ...\n",
    "    \n",
    "    # store state\n",
    "    states.append(Xnew)\n",
    "    \n",
    "print(states)"
   ]
  },
  {
   "cell_type": "markdown",
   "metadata": {},
   "source": [
    "### Task 2\n",
    "<img src=\"Example2.png\" width=\"200\"/>\n",
    "\n",
    "* Simulate the following more complex boolean network consisting of 5 nodes. \n",
    "* The update rules are given by\n",
    "```\n",
    "X1 = INVERSE(X4)\n",
    "X5 = IDENTIY(X4)\n",
    "X2 = OR(X1, X5)\n",
    "X3 = OR(X1, X5)\n",
    "X4 = XOR(X3, X2)\n",
    "```\n",
    "\n",
    "* What are the possible trajectories of the boolean network, i.e. which final states (or cycles of states) are reached? (hint: simulate the network for all possible initial states)"
   ]
  },
  {
   "cell_type": "code",
   "execution_count": null,
   "metadata": {},
   "outputs": [],
   "source": []
  }
 ],
 "metadata": {
  "kernelspec": {
   "display_name": "modelling",
   "language": "python",
   "name": "modelling"
  },
  "language_info": {
   "codemirror_mode": {
    "name": "ipython",
    "version": 3
   },
   "file_extension": ".py",
   "mimetype": "text/x-python",
   "name": "python",
   "nbconvert_exporter": "python",
   "pygments_lexer": "ipython3",
   "version": "3.6.3"
  }
 },
 "nbformat": 4,
 "nbformat_minor": 2
}
