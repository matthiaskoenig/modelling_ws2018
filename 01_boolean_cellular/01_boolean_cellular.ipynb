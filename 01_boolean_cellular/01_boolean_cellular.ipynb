{
 "cells": [
  {
   "cell_type": "markdown",
   "metadata": {},
   "source": [
    "# 01 Boolean Networks & Cell Automata"
   ]
  },
  {
   "cell_type": "markdown",
   "metadata": {},
   "source": [
    "## Short introduction to python\n",
    "The tutorials and excercises will be based on `python`. A basic understanding of programming and the python language is required. \n",
    "\n",
    "Installation:\n",
    "- https://wiki.python.org/moin/BeginnersGuide/Download\n",
    "\n",
    "There a lot of good basic tutorials\n",
    "- https://www.learnpython.org/ -  interactive python tutorial\n",
    "- https://docs.python.org/3/tutorial/index.html - official tutorial, more in depth"
   ]
  },
  {
   "cell_type": "markdown",
   "metadata": {},
   "source": [
    "## Simple Boolean Network\n",
    "We want to simulate a basic boolean network with three states `A`, `B` and `C`.\n",
    "The state vector `[A, B, C]` is updated based on the defined rules for the boolean network in every step, i.e. by applying the rules we update the state vector\n",
    "\n",
    "\n",
    "A -> B -> C - >\n",
    "\n",
    "TODO: graph of network (1 dimensional input, chain and circle)\n",
    "\n",
    "TODO: \n",
    "\n",
    "```\n",
    "[A, B, C](k) --> [A, B, C](k+1)\n",
    "```\n",
    "- The boolean states can be either 0 or 1.\n",
    "- The initial state of the boolean system is `[A, B, C](0) = [1,0,1]`\n",
    "- The rules \n",
    "\n",
    "\n",
    "General Properties of Boolean Networks:\n",
    "- Fixed topology (doesn’t change with time)\n",
    "- Dynamic (states \n",
    "- Synchronous (update of all states occurs at the same time)\n",
    "- Node States: Deterministic, discrete (binary)\n",
    "- Gate Function: Boolean (rules which calculate the update for the state)\n",
    "- Flow: Information\n",
    "\n",
    "Rules:\n",
    "- every node (state) in the boolean network has a rule which specifies the output of the node (state) for all possible combinations of inputs\n",
    "\n",
    "e.g., one dimensional input\n",
    "- identity (0 -> 0, 1 -> 1) \n",
    "- inverse (0 -> 1, 1 -> 0)\n",
    "- zero (0 -> 0, 1 -> 0)\n",
    "- one (1 -> 1, 0 -> 0)\n",
    "\n",
    "E.g. `X1 ⇌ X2`"
   ]
  },
  {
   "cell_type": "code",
   "execution_count": null,
   "metadata": {},
   "outputs": [],
   "source": [
    "Boolean network: a graph G(V,E), annotated with a set of \n",
    "states X={x\n",
    "i\n",
    "| i=1,...,n}, together with a set of Boolean \n",
    "functions B={b\n",
    "i \n",
    "| i=1,...,k},                                .\n",
    "Gate: Each node, v\n",
    "i\n",
    ", has associated to it a function , with inputs \n",
    "the states of the nodes connected to v\n",
    "i\n",
    ".\n",
    "Dynamics: The state of node v\n",
    "i\n",
    "at time t is denoted as x\n",
    "i\n",
    "(t). \n",
    "Then, the state of that node at time t+1 is given by:\n",
    ")\n",
    ",...,\n",
    ",\n",
    "(\n",
    ")\n",
    "1\n",
    "(\n",
    "2\n",
    "1\n",
    "k\n",
    "i\n",
    "i\n",
    "i\n",
    "i\n",
    "i\n",
    "x\n",
    "x\n",
    "x\n",
    "b\n",
    "t\n",
    "x\n",
    "=\n",
    "+\n",
    "where x\n",
    "ij\n",
    "are the states of the nodes connected to v\n",
    "i\n"
   ]
  },
  {
   "cell_type": "code",
   "execution_count": 5,
   "metadata": {},
   "outputs": [
    {
     "name": "stdout",
     "output_type": "stream",
     "text": [
      "1 0 0\n",
      "0 -1 -1\n",
      "1 0 0\n",
      "0 -1 -1\n",
      "1 0 0\n",
      "0 -1 -1\n",
      "1 0 0\n",
      "0 -1 -1\n",
      "1 0 0\n",
      "0 -1 -1\n",
      "[[1, 0, 1], [0, 1, 1], [1, 0, 0], [0, 1, 1], [1, 0, 0], [0, 1, 1], [1, 0, 0], [0, 1, 1], [1, 0, 0], [0, 1, 1], [1, 0, 0]]\n"
     ]
    }
   ],
   "source": [
    "\"\"\" Simulation of boolean network. \"\"\"\n",
    "K = 10  # iterate K times\n",
    "\n",
    "# Rules for A, B, and C\n",
    "A_table = [1, 0]\n",
    "B_table = [1, 1, 1, 0]\n",
    "C_table = [1, 0, 0, 0]\n",
    "\n",
    "# Start value\n",
    "X = [[1,0,1]]\n",
    "\n",
    "for i in range(K):\n",
    "    # last state\n",
    "    A_t, B_t, C_t = X[i]\n",
    "    \n",
    "    # index for table lookup\n",
    "    A_ix = A_t\n",
    "    B_ix = 2*(A_t-1) + B_t\n",
    "    C_ix = 2*(A_t-1) + B_t\n",
    "    print(A_ix, B_ix, C_ix)\n",
    "    \n",
    "    # new state\n",
    "    A_new = A_table[A_ix]\n",
    "    B_new = B_table[B_ix]\n",
    "    C_new = C_table[C_ix]\n",
    "    \n",
    "    # save state\n",
    "    X.append([A_new, B_new, C_new])\n",
    "    \n",
    "print(X)"
   ]
  },
  {
   "cell_type": "code",
   "execution_count": null,
   "metadata": {},
   "outputs": [],
   "source": []
  }
 ],
 "metadata": {
  "kernelspec": {
   "display_name": "modelling",
   "language": "python",
   "name": "modelling"
  },
  "language_info": {
   "codemirror_mode": {
    "name": "ipython",
    "version": 3
   },
   "file_extension": ".py",
   "mimetype": "text/x-python",
   "name": "python",
   "nbconvert_exporter": "python",
   "pygments_lexer": "ipython3",
   "version": "3.6.3"
  }
 },
 "nbformat": 4,
 "nbformat_minor": 2
}
