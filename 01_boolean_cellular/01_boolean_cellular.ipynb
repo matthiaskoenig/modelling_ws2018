{
 "cells": [
  {
   "cell_type": "markdown",
   "metadata": {},
   "source": [
    "# 01 Boolean Networks & Cell Automata"
   ]
  },
  {
   "cell_type": "markdown",
   "metadata": {},
   "source": [
    "## Short introduction to python\n",
    "The tutorial will be based on `python`. A basic understanding of programming and the python language will be sufficient to follow the examples. \n",
    "\n",
    "Many good basic python tutorials and introductions exist, for instance see\n",
    "- https://www.learnpython.org/ -  interactive python tutorial\n",
    "- https://docs.python.org/3/tutorial/index.html - official tutorial, more in depth\n",
    "\n",
    "To follow the tutorial a basic `python3` installation with the packages listed in `requirements.txt` is needed.\n",
    "```\n",
    "numpy\n",
    "pandas\n",
    "matplotlib\n",
    "```\n",
    "\n",
    "See for instance \n",
    "- https://wiki.python.org/moin/BeginnersGuide/Download\n",
    "for installation instructions.\n",
    "\n",
    "This tutorial and all information related to it is available online at\n",
    "https://github.com/matthiaskoenig/modelling_ws2018\n",
    "\n",
    "If you have any questions or need help please contact konigmatt@googlemail.com"
   ]
  },
  {
   "cell_type": "markdown",
   "metadata": {},
   "source": [
    "## Boolean Networks\n",
    "- A boolean network consists of nodes (which have a boolean state) and connections between the states (inputs for nodes).\n",
    "- The boolean states can be either 0 or 1.\n",
    "- Every node (state) in the boolean network has a rule which specifies the output of the node (state) for all possible combinations of inputs. \n",
    "- Based on the given rule for a node the node state is updated.\n",
    "- Simulations start from an initial state of the network. This is the state of all nodes at the begin of the simulation.\n",
    "\n",
    "General Properties of Boolean Networks:\n",
    "- Fixed topology (doesn’t change with time)\n",
    "- Dynamic (states \n",
    "- Synchronous (update of all states occurs at the same time)\n",
    "- Node States: Deterministic, discrete (binary)\n",
    "- Gate Function: Boolean (rules which calculate the update for the state)\n",
    "- Flow: Information\n",
    "\n",
    "For one dimensional input the unary boolean operators are\n",
    "- IDENTITY (`[0]->[0], [1]->[1]`) \n",
    "- INVERSE (`[0]->[1], [1]->[0]`)\n",
    "- ZERO (`[0]->[0], [1]->[0]`)\n",
    "- ONE (`[0]->[1], [1]->[1]`)\n",
    "\n",
    "For two dimensional inputs possible logical operations (rules) are for instance\n",
    "- AND (`[1,1]->[1], [1,0]->[0], [0,1]->[1], [0,0]->[0]`) \n",
    "- OR\n",
    "- XOR\n",
    "- NOR\n",
    "- ...\n",
    "\n",
    "An overview over the truth tables (boolean rules) for unary and binary operations can be found here https://en.wikipedia.org/wiki/Truth_table"
   ]
  },
  {
   "cell_type": "markdown",
   "metadata": {},
   "source": [
    "### Task 1\n",
    "Within this task we will simulate a boolean network by applying the rules repeatedly starting from an intial state, thereby updating the state vector `[X1, X2]`.\n",
    "\n",
    "\n",
    "<img src=\"Example1.png\" width=\"200\"/>\n",
    "\n",
    "* Write a computer program which simulates the simple boolean networks consisting of the two nodes `X1` and `X2` with the initial state `[X1, X2](0) = [0, 1]`. The boolean rules for updating `X1` based on the input from `X2`, and for updating X2 based on the input of `X1` are the unary `INVERSE` rule. Simulate the model for 20 steps. What is the final state of the boolean network?\n",
    "* What are the possible trajectories of the boolean network, i.e. which sequence of states are possible? (hint: simulate the network for all possible initial states)"
   ]
  },
  {
   "cell_type": "code",
   "execution_count": null,
   "metadata": {},
   "outputs": [],
   "source": [
    "N = 20  # number of steps\n",
    "states = [[0, 1]]  # initial state\n",
    "for k in N:\n",
    "    # get last states\n",
    "    X = states[i]\n",
    "    \n",
    "    # TODO: update state based on rules\n",
    "    Xnew = ...\n",
    "    \n",
    "    # store state\n",
    "    states.append(Xnew)\n",
    "    \n",
    "print(states)"
   ]
  },
  {
   "cell_type": "markdown",
   "metadata": {},
   "source": [
    "### Task 2\n",
    "<img src=\"Example2.png\" width=\"200\"/>\n",
    "\n",
    "* Simulate the following more complex boolean network consisting of 5 nodes. \n",
    "* The update rules are given by\n",
    "```\n",
    "X1 = INVERSE(X4)\n",
    "X5 = IDENTIY(X4)\n",
    "X2 = OR(X1, X5)\n",
    "X3 = OR(X1, X5)\n",
    "X4 = XOR(X3, X2)\n",
    "```\n",
    "\n",
    "\n",
    "* What are the possible trajectories of the boolean network, i.e. which final states (or cycles of states) are reached? (hint: simulate the network for all possible initial states)"
   ]
  },
  {
   "cell_type": "code",
   "execution_count": 19,
   "metadata": {},
   "outputs": [],
   "source": [
    "## Cellular automata"
   ]
  },
  {
   "cell_type": "code",
   "execution_count": null,
   "metadata": {},
   "outputs": [],
   "source": []
  }
 ],
 "metadata": {
  "kernelspec": {
   "display_name": "modelling",
   "language": "python",
   "name": "modelling"
  },
  "language_info": {
   "codemirror_mode": {
    "name": "ipython",
    "version": 3
   },
   "file_extension": ".py",
   "mimetype": "text/x-python",
   "name": "python",
   "nbconvert_exporter": "python",
   "pygments_lexer": "ipython3",
   "version": "3.6.3"
  }
 },
 "nbformat": 4,
 "nbformat_minor": 2
}
