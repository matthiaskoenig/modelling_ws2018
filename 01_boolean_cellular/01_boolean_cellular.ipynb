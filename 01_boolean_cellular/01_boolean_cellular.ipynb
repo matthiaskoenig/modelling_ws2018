{
 "cells": [
  {
   "cell_type": "markdown",
   "metadata": {},
   "source": [
    "# Boolean Networks & Cellular Automaton"
   ]
  },
  {
   "cell_type": "markdown",
   "metadata": {},
   "source": [
    "## Short introduction to python\n",
    "The tutorial will be based on `python`. A basic understanding of programming and the python language will be sufficient to follow the examples. \n",
    "\n",
    "Many good basic python tutorials and introductions exist, for instance see\n",
    "\n",
    "- https://www.learnpython.org/ -  interactive python tutorial\n",
    "- https://docs.python.org/3/tutorial/index.html - official tutorial, more in depth\n",
    "\n",
    "For installation instructions see for instance https://wiki.python.org/moin/BeginnersGuide/Download\n",
    "\n",
    "This tutorial and all information related to it is available online at\n",
    "https://github.com/matthiaskoenig/modelling_ws2018\n",
    "\n",
    "To follow the tutorial a basic `python3` installation with the packages listed in `requirements.txt` is needed.\n",
    "```\n",
    "numpy\n",
    "pandas\n",
    "matplotlib\n",
    "```\n",
    "\n",
    "If you have any questions or need help please contact konigmatt@googlemail.com"
   ]
  },
  {
   "cell_type": "markdown",
   "metadata": {},
   "source": [
    "## Boolean Networks\n",
    "\n",
    "- A boolean network consists of nodes (which have a boolean state) and connections between the states (inputs for nodes).\n",
    "- The boolean states can be either 0 or 1.\n",
    "- Every node (state) in the boolean network has a rule which specifies the output of the node (state) for all possible combinations of inputs. \n",
    "- Based on the given rule for a node the node state is updated.\n",
    "- Simulations start from an initial state of the network. This is the state of all nodes at the begin of the simulation.\n",
    "\n",
    "General Properties of Boolean Networks:\n",
    "\n",
    "- Fixed topology (doesn’t change with time)\n",
    "- Dynamic (states evolve over time, updates happen at discrete time steps)\n",
    "- Synchronous (update of all states occurs at the same time)\n",
    "- Node States: Deterministic (based on rules), discrete (binary)\n",
    "- Gate Function: Boolean (rules which calculate the update for the state, return discrete new state)\n",
    "- Flow: Information"
   ]
  },
  {
   "cell_type": "markdown",
   "metadata": {},
   "source": [
    "For one dimensional input of a given node in a boolean network the possible unary boolean operators are\n",
    "\n",
    "- IDENTITY (`[0]->[0], [1]->[1]`) \n",
    "- INVERSE (`[0]->[1], [1]->[0]`)\n",
    "- ZERO (`[0]->[0], [1]->[0]`)\n",
    "- ONE (`[0]->[1], [1]->[1]`)\n",
    "\n",
    "For two dimensional inputs possible logical operations (rules) are for instance\n",
    "\n",
    "- AND (`[1,1]->[1], [1,0]->[0], [0,1]->[1], [0,0]->[0]`) \n",
    "- OR\n",
    "- XOR\n",
    "- NOR\n",
    "- ...\n",
    "\n",
    "An overview over the truth tables (boolean rules) for unary and binary operations can be found here https://en.wikipedia.org/wiki/Truth_table"
   ]
  },
  {
   "cell_type": "markdown",
   "metadata": {},
   "source": [
    "### Task 1\n",
    "Within this task we will simulate a boolean network by applying the rules repeatedly starting from an intial state, thereby updating the state vector `[X1, X2]`.\n",
    "\n",
    "\n",
    "<img src=\"Example1.png\" width=\"200\"/>\n",
    "\n",
    "* Write a computer program which simulates the simple boolean networks consisting of the two nodes `X1` and `X2` with the initial state `[X1, X2](0) = [0, 1]`. The boolean rules for updating `X1` based on the input from `X2`, and for updating X2 based on the input of `X1` are the unary `INVERSE` rule. Simulate the model for 20 steps. What is the final state of the boolean network?\n",
    "* What are the possible trajectories of the boolean network, i.e. which sequence of states are possible? (hint: simulate the network for all possible initial states)"
   ]
  },
  {
   "cell_type": "code",
   "execution_count": null,
   "metadata": {},
   "outputs": [],
   "source": [
    "N = 20  # number of steps\n",
    "states = [[0, 1]]  # initial state\n",
    "for k in N:\n",
    "    # get state of last step\n",
    "    X = states[k]\n",
    "    \n",
    "    # TODO: update state by applying rules\n",
    "    Xnew = ...\n",
    "    \n",
    "    # store new state\n",
    "    states.append(Xnew)\n",
    "    \n",
    "print(states)"
   ]
  },
  {
   "cell_type": "markdown",
   "metadata": {},
   "source": [
    "### Task 2\n",
    "<img src=\"Example2.png\" width=\"200\"/>\n",
    "\n",
    "* Simulate the following more complex boolean network consisting of 5 nodes (reuse the code from task 1)\n",
    "* The update rules are given by\n",
    "\n",
    "```\n",
    "X1 = INVERSE(X4)\n",
    "X5 = IDENTIY(X4)\n",
    "X2 = OR(X1, X5)\n",
    "X3 = OR(X1, X5)\n",
    "X4 = XOR(X3, X2)\n",
    "```\n",
    "\n",
    "\n",
    "* What are the possible trajectories of the boolean network, i.e. which final states (or cycles of states) are reached? (hint: simulate the network for all possible initial states)"
   ]
  },
  {
   "cell_type": "markdown",
   "metadata": {},
   "source": [
    "## Cellular automaton"
   ]
  },
  {
   "cell_type": "markdown",
   "metadata": {},
   "source": [
    "A cellular automaton is a discrete model studied in computer science, mathematics, physics, complexity science, theoretical biology and microstructure modeling. \n",
    "\n",
    "<img src=\"Gospers_glider_gun.gif\" width=\"200\"/>\n",
    "\n",
    "- A cellular automaton consists of a regular grid of cells, each in one of a finite number of states, such as on and off. \n",
    "- For each cell, a set of cells called its neighborhood is defined relative to the specified cell. \n",
    "- An initial state (time t = 0) is selected by assigning a state for each cell. \n",
    "- A new generation is created (advancing t by 1), according to some fixed rule (generally, a mathematical function) that determines the new state of each cell in terms of the current state of the cell and the states of the cells in its neighborhood. \n",
    "- Typically, the rule for updating the state of cells is the same for each cell and does not change over time, and is applied to the whole grid simultaneously.\n",
    "\n",
    "For more information see https://en.wikipedia.org/wiki/Cellular_automaton.\n",
    "\n",
    "A more in depth introduction with hints how to solve the task is given in https://natureofcode.com/book/chapter-7-cellular-automata/"
   ]
  },
  {
   "cell_type": "markdown",
   "metadata": {},
   "source": [
    "### Task 3\n",
    "Build and simulate the simple cellular automaton with the following characteristics:\n",
    "\n",
    "- **Grid**: We will use the simplest possible grid, which is one-dimensional: a line of cells.\n",
    "- **States**: The simplest set of states (beyond having only one state) are the two possible states per cell: 0 or 1.\n",
    "- **Neighborhood**: The simplest neighborhood in one dimension for any given cell would be the cell itself and its two adjacent neighbors: one to the left and one to the right.\n",
    "- **Rules**: Define how a cell is updated based on its neighborhood. The simplest rules are identical rules for every cell.\n",
    "\n",
    "For the update rules we need to define an outcome (new state value 0 or 1) for a cell based on its current neighborhood.\n",
    "The following rules are applied:\n",
    "\n",
    "```\n",
    "neighborhood (with cell in the center) -> new state of cell\n",
    "000 -> 0\n",
    "001 -> 1\n",
    "010 -> 0\n",
    "011 -> 1\n",
    "100 -> 1\n",
    "101 -> 0\n",
    "110 -> 1\n",
    "111 -> 0\n",
    "```\n",
    "- the one dimensional grid contains `101` cells\n",
    "- the initial state of all cells is 0, with exception of the cell in the middle of the grid which starts with state 1"
   ]
  },
  {
   "cell_type": "code",
   "execution_count": null,
   "metadata": {},
   "outputs": [],
   "source": []
  }
 ],
 "metadata": {
  "kernelspec": {
   "display_name": "modelling",
   "language": "python",
   "name": "modelling"
  },
  "language_info": {
   "codemirror_mode": {
    "name": "ipython",
    "version": 3
   },
   "file_extension": ".py",
   "mimetype": "text/x-python",
   "name": "python",
   "nbconvert_exporter": "python",
   "pygments_lexer": "ipython3",
   "version": "3.6.3"
  }
 },
 "nbformat": 4,
 "nbformat_minor": 2
}
